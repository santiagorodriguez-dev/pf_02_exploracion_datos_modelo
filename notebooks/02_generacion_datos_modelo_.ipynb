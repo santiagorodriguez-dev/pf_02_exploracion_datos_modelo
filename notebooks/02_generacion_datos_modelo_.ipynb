{
 "cells": [
  {
   "cell_type": "code",
   "execution_count": 6,
   "metadata": {},
   "outputs": [
    {
     "name": "stdout",
     "output_type": "stream",
     "text": [
      "The autoreload extension is already loaded. To reload it, use:\n",
      "  %reload_ext autoreload\n"
     ]
    }
   ],
   "source": [
    "# Importaciones\n",
    "import pandas as pd\n",
    "import sys\n",
    "sys.path.append(\"../\")\n",
    "from src import support_open_ai as sp\n",
    "from src import support_bd as bd\n",
    "from src import support as sp_c\n",
    "import os\n",
    "import dotenv # type: ignore\n",
    "dotenv.load_dotenv()\n",
    "\n",
    "import warnings\n",
    "warnings.filterwarnings(\"ignore\")\n",
    "pd.set_option(\"display.max_columns\", None)\n",
    "%load_ext autoreload\n",
    "%autoreload 2"
   ]
  },
  {
   "cell_type": "code",
   "execution_count": 7,
   "metadata": {},
   "outputs": [],
   "source": [
    "openai_client = sp.init_openai()"
   ]
  },
  {
   "cell_type": "code",
   "execution_count": 8,
   "metadata": {},
   "outputs": [],
   "source": [
    "my_assistant = sp.get_assistant(openai_client, os.getenv(\"OPENAI_API_ASSIS_VENTA\"))"
   ]
  },
  {
   "cell_type": "code",
   "execution_count": 9,
   "metadata": {},
   "outputs": [],
   "source": [
    "thread = sp.create_thread(openai_client)"
   ]
  },
  {
   "cell_type": "code",
   "execution_count": 12,
   "metadata": {},
   "outputs": [
    {
     "name": "stdout",
     "output_type": "stream",
     "text": [
      "respuesta procesada del asistente:\n"
     ]
    }
   ],
   "source": [
    "datos = sp.process_data_sin_mensajes(openai_client, my_assistant.id, thread.id, \"Dame informacion de todos los cursos disponibles\")"
   ]
  },
  {
   "cell_type": "code",
   "execution_count": 11,
   "metadata": {},
   "outputs": [
    {
     "data": {
      "text/plain": [
       "'Actualmente, solo tengo información sobre un curso disponible, que es el **Curso de Desarrollador Full Stack**. A continuación, te doy detalles relevantes sobre este curso:\\n\\n### Descripción del Curso:\\nEl programa está diseñado para convertirte en un Desarrollador Full Stack en un tiempo de entre 4 a 12 meses, dependiendo de tu dedicación. Es un curso 100% online y flexible, lo que permite avanzar a tu ritmo. A lo largo del programa, aprenderás de desarrolladores en activo, asegurando que el contenido sea relevante y actualizado con las demandas del mercado.\\n\\n### Contenido del Curso:\\n- **Módulos**:\\n  1. **Conceptos del Desarrollo Web**.\\n  2. **Arquitectura de la Información**.\\n  3. **Diseño de Aplicaciones Web**.\\n  4. **JavaScript y Programación Asincrónica**.\\n  5. **NodeJS y Backend**.\\n  6. **ReactJS y Frontend**.\\n  7. **Integración Full Stack**.\\n  8. **Empleabilidad y Preparación para el Mercado Laboral**.\\n  \\n### Especializaciones:\\nAl finalizar el curso, puedes elegir una especialización en:\\n- **IA Developer**.\\n- **Advanced Web Technologies**.\\n- **UX Engineer**.\\n\\n### Beneficios:\\n- Obtendrás **dos títulos** al finalizar: uno como Desarrollador Full Stack y otro en la especialización elegida.\\n- Acceso a **tres sesiones de empleabilidad** para mejorar tu perfil profesional y prepararte para entrevistas.\\n- Más de **900 horas de contenido** actualizado y **800 horas de trabajo personal**.\\n- Oportunidad de trabajar en proyectos prácticos que complementen tu aprendizaje.\\n\\n### Requisitos:\\nNo necesitas tener experiencia previa en programación, ya que el curso está diseñado para comenzar desde cero.\\n\\n### Costos y Financiamiento:\\nSe ofrecen diferentes opciones de pago, incluyendo pago a plazos y la posibilidad de pagar cuando encuentres trabajo.\\n\\nSi tienes más preguntas o necesitas información específica sobre algún aspecto del curso, no dudes en preguntar. Estoy aquí para ayudarte a tomar la mejor decisión sobre tu formación en desarrollo web.'"
      ]
     },
     "execution_count": 11,
     "metadata": {},
     "output_type": "execute_result"
    }
   ],
   "source": [
    "datos"
   ]
  },
  {
   "cell_type": "code",
   "execution_count": 15,
   "metadata": {},
   "outputs": [
    {
     "name": "stdout",
     "output_type": "stream",
     "text": [
      "respuesta procesada del asistente:\n"
     ]
    }
   ],
   "source": [
    "datos = sp.process_data_sin_mensajes(openai_client, my_assistant.id, thread.id, \"quienes son los profesores de los cursos\")"
   ]
  },
  {
   "cell_type": "code",
   "execution_count": 16,
   "metadata": {},
   "outputs": [
    {
     "data": {
      "text/plain": [
       "'Los profesores del curso de **Desarrollador Full Stack** son profesionales en activo con una amplia experiencia en el sector. Aquí tienes algunos de ellos:\\n\\n1. **Antonio Rosales Martínez** - Head Teacher\\n   - Más de 5 años en docencia, ha trabajado en instituciones como Neoland y The Valley. Ha enseñado en escuelas como Ironhack y The Bridge y ha participado en proyectos importantes como los Juegos Olímpicos (Olympic Channel).\\n\\n2. **Cristian Castillo Navarro** - Software Engineer, Teach Lead y Code Teacher\\n   - Con experiencia en desarrollo de software y liderazgo de equipos, aporta una visión práctica y actualizada a los estudiantes.\\n\\n3. **Santiago Corocotta Cabrera Escoriza** - Head Teacher\\n   - Más de 5 años en docencia, con experiencia en proyectos como Bizum y contribuciones a proyectos open source.\\n\\n4. **Pablo Robles** - CEO en Mercanza\\n   - Más de 30 años liderando implementaciones de soluciones de inteligencia de negocios en sectores como transporte y salud, con experiencia en IA y proyectos de software en empresas como La Liga y Volvo.\\n\\nEl equipo docente está compuesto por expertos capacitados que brindan apoyo continuo y orientación a los estudiantes a lo largo de su proceso de aprendizaje【16:3†source】.\\n\\nSi deseas más información sobre el curso o sobre el equipo docente, ¡no dudes en preguntar! Estoy aquí para ayudarte.'"
      ]
     },
     "execution_count": 16,
     "metadata": {},
     "output_type": "execute_result"
    }
   ],
   "source": [
    "datos"
   ]
  },
  {
   "cell_type": "code",
   "execution_count": 23,
   "metadata": {},
   "outputs": [],
   "source": [
    "datos = sp.process_data_sin_mensajes(openai_client, my_assistant.id, thread.id, \"Que fechas hay disponibeles para los cursos, que sean posteriores a la fecha actual\")"
   ]
  },
  {
   "cell_type": "code",
   "execution_count": 24,
   "metadata": {},
   "outputs": [
    {
     "data": {
      "text/plain": [
       "'Las fechas disponibles para el curso de **Desarrollador Full Stack** que son posteriores a la fecha actual son:\\n\\n1. **Inicio: 6 de noviembre de 2024** - Clases teóricas comienzan el 25 de noviembre de 2024.\\n2. **Inicio: 8 de enero de 2025** - Clases teóricas comienzan el 3 de febrero de 2025.\\n3. **Inicio: 5 de marzo de 2025** - Clases teóricas comienzan el 31 de marzo de 2025.\\n4. **Inicio: 7 de mayo de 2025** - Clases teóricas comienzan el 26 de mayo de 2025.\\n5. **Inicio: 2 de julio de 2025** - Clases teóricas comienzan el 21 de julio de 2025.\\n6. **Inicio: 1 de octubre de 2025** - Clases teóricas comienzan el 20 de octubre de 2025.\\n7. **Inicio: 10 de diciembre de 2025** - Clases teóricas comienzan el 12 de enero de 2026.\\n\\nSi necesitas más detalles o tienes otra pregunta, ¡estaré encantado de ayudarte!'"
      ]
     },
     "execution_count": 24,
     "metadata": {},
     "output_type": "execute_result"
    }
   ],
   "source": [
    "datos"
   ]
  },
  {
   "cell_type": "code",
   "execution_count": 28,
   "metadata": {},
   "outputs": [
    {
     "name": "stdout",
     "output_type": "stream",
     "text": [
      "Consulta realizada: hola\n",
      "¡Hola! ¿Cómo puedo ayudarte hoy? Si tienes interés en el curso de Desarrollador Full Stack o alguna pregunta sobre él, estaré encantado de asistirte.\n",
      "Consulta realizada: cuanto cuesta el curos\n",
      "El costo del curso de Desarrollador Full Stack es de **3,500 euros**, con descuentos disponibles de hasta **750 euros**【6:0†source】. \n",
      "\n",
      "Si tienes más preguntas o necesitas más información sobre el curso, ¡estaré encantado de ayudarte!\n",
      "Consulta realizada: quienes son todos los profesores\n",
      "El curso de Desarrollador Full Stack cuenta con un equipo de docentes expertos en el sector tecnológico. Algunos de los profesores son:\n",
      "\n",
      "- **Antonio Rosales Martínez**: Head Teacher con más de 5 años en docencia, ha trabajado en instituciones como Neoland y The Valley, y ha enseñado en escuelas como Ironhack y The Bridge. También ha participado en proyectos importantes como los Juegos Olímpicos (Olympic Channel).\n",
      "\n",
      "- **Cristian Castillo Navarro**: Software Engineer, Teach Lead y Code Teacher.\n",
      "\n",
      "- **Santiago Corocotta Cabrera Escoriza**: Head Teacher con más de 5 años de experiencia en docencia, ha trabajado en proyectos como Bizum y es contribuidor activo en proyectos open source.\n",
      "\n",
      "- **Alberto Rivera Mérida**: Product Development Manager.\n",
      "\n",
      "- **Manuel Chaso Martín**: Community Developer.\n",
      "\n",
      "- **Pablo Robles**: CEO en Mercanza, con más de 30 años de experiencia en implementaciones de soluciones de inteligencia de negocios en sectores como transporte y salud【10:1†source】.\n",
      "\n",
      "Si tienes más preguntas sobre el curso o sobre los profesores, no dudes en preguntar. ¡Estoy aquí para ayudarte!\n",
      "Consulta realizada: quienes son los profesores\n",
      "El curso de Desarrollador Full Stack cuenta con un equipo de docentes muy experimentado. Aquí tienes algunos de los profesores:\n",
      "\n",
      "- **Antonio Rosales Martínez**: Head Teacher con más de 5 años en docencia, ha trabajado en instituciones como Neoland y The Valley, y ha enseñado en escuelas como Ironhack y The Bridge. También ha participado en proyectos importantes como los Juegos Olímpicos (Olympic Channel).\n",
      "\n",
      "- **Cristian Castillo Navarro**: Software Engineer, Teach Lead y Code Teacher.\n",
      "\n",
      "- **Santiago Corocotta Cabrera Escoriza**: Head Teacher con más de 5 años de experiencia en docencia, ha trabajado en proyectos como Bizum y es contribuidor activo en proyectos open source.\n",
      "\n",
      "- **Alberto Rivera Mérida**: Product Development Manager.\n",
      "\n",
      "- **Manuel Chaso Martín**: Community Developer.\n",
      "\n",
      "- **Pablo Robles**: CEO en Mercanza, con más de 30 años de experiencia en implementaciones de soluciones de inteligencia de negocios en sectores como transporte y salud.\n",
      "\n",
      "Si necesitas más información sobre algún profesor en particular o sobre el curso, ¡estaré encantado de ayudarte!\n",
      "¡Hasta luego!\n"
     ]
    }
   ],
   "source": [
    "def main():\n",
    "\n",
    "    openai_client = sp.init_openai()\n",
    "    my_assistant = sp.get_assistant(openai_client, os.getenv(\"OPENAI_API_ASSIS_VENTA\"))\n",
    "    thread = sp.create_thread(openai_client)\n",
    "\n",
    "    while True:\n",
    "        mensaje = input(\"Introduce un mensaje para interactuar con el chatbot (o escribe 'salir' para terminar): \").strip()\n",
    "        \n",
    "        if not mensaje:  # Verifica si el mensaje está vacío\n",
    "            print(\"El mensaje no puede estar vacío. Inténtalo de nuevo.\")\n",
    "            continue\n",
    "        \n",
    "        if mensaje.lower() == 'salir':  # Salir del bucle si el usuario escribe 'salir'\n",
    "            print(\"¡Hasta luego!\")\n",
    "            break\n",
    "        \n",
    "        print(f\"Consulta realizada: {mensaje}\")\n",
    "        datos = sp.process_data_sin_mensajes(openai_client, my_assistant.id, thread.id, mensaje)\n",
    "        print(datos)\n",
    "\n",
    "if __name__ == \"__main__\":\n",
    "    main()\n"
   ]
  }
 ],
 "metadata": {
  "kernelspec": {
   "display_name": "Python 3",
   "language": "python",
   "name": "python3"
  },
  "language_info": {
   "codemirror_mode": {
    "name": "ipython",
    "version": 3
   },
   "file_extension": ".py",
   "mimetype": "text/x-python",
   "name": "python",
   "nbconvert_exporter": "python",
   "pygments_lexer": "ipython3",
   "version": "3.12.5"
  }
 },
 "nbformat": 4,
 "nbformat_minor": 2
}
