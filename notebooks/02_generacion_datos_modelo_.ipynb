{
 "cells": [
  {
   "cell_type": "code",
   "execution_count": 1,
   "metadata": {},
   "outputs": [],
   "source": [
    "# Importaciones\n",
    "import pandas as pd\n",
    "import sys\n",
    "sys.path.append(\"../\")\n",
    "from src import support_open_ai as sp\n",
    "from src import support_bd as bd\n",
    "from src import support as sp_c\n",
    "import os\n",
    "import dotenv # type: ignore\n",
    "dotenv.load_dotenv()\n",
    "import re\n",
    "import json\n",
    "\n",
    "import warnings\n",
    "warnings.filterwarnings(\"ignore\")\n",
    "pd.set_option(\"display.max_columns\", None)\n",
    "%load_ext autoreload\n",
    "%autoreload 2"
   ]
  },
  {
   "cell_type": "code",
   "execution_count": 2,
   "metadata": {},
   "outputs": [],
   "source": [
    "openai_client = sp.init_openai()"
   ]
  },
  {
   "cell_type": "code",
   "execution_count": 3,
   "metadata": {},
   "outputs": [],
   "source": [
    "my_assistant = sp.get_assistant(openai_client, os.getenv(\"OPENAI_API_ASSIS_PREDICCION\"))"
   ]
  },
  {
   "cell_type": "code",
   "execution_count": 4,
   "metadata": {},
   "outputs": [],
   "source": [
    "thread = sp.create_thread(openai_client)"
   ]
  },
  {
   "cell_type": "code",
   "execution_count": 5,
   "metadata": {},
   "outputs": [],
   "source": [
    "datos = bd.select_datos(\"leads\")"
   ]
  },
  {
   "cell_type": "code",
   "execution_count": 6,
   "metadata": {},
   "outputs": [
    {
     "name": "stdout",
     "output_type": "stream",
     "text": [
      "Esperando a que se complete...\n",
      "Esperando a que se complete...\n",
      "Esperando a que se complete...\n",
      "Esperando a que se complete...\n",
      "Esperando a que se complete...\n",
      "Esperando a que se complete...\n",
      "Esperando a que se complete...\n",
      "Esperando a que se complete...\n",
      "Esperando a que se complete...\n",
      "Esperando a que se complete...\n",
      "Esperando a que se complete...\n",
      "Esperando a que se complete...\n",
      "Esperando a que se complete...\n",
      "se completó exitosamente.\n",
      "Thread ID: thread_MlL6Ae2iPszlnNraVvGB5HgO\n",
      "Run ID: run_tVFYfLL98fpN5Gt8VNtlYFhk\n",
      "Run Status: completed\n",
      "respuesta procesada del asistente.\n",
      "Esperando a que se complete...\n",
      "Esperando a que se complete...\n",
      "Esperando a que se complete...\n",
      "Esperando a que se complete...\n",
      "Esperando a que se complete...\n",
      "Esperando a que se complete...\n",
      "Esperando a que se complete...\n",
      "se completó exitosamente.\n",
      "Thread ID: thread_MlL6Ae2iPszlnNraVvGB5HgO\n",
      "Run ID: run_BxiEOjXQ0ghRnrFn6Ig8aTHj\n",
      "Run Status: completed\n",
      "respuesta procesada del asistente.\n",
      "Esperando a que se complete...\n",
      "Esperando a que se complete...\n",
      "Esperando a que se complete...\n",
      "Esperando a que se complete...\n",
      "Esperando a que se complete...\n",
      "Esperando a que se complete...\n",
      "Esperando a que se complete...\n",
      "se completó exitosamente.\n",
      "Thread ID: thread_MlL6Ae2iPszlnNraVvGB5HgO\n",
      "Run ID: run_V7ZeRIJMoYtDuVLBLXPV0xjx\n",
      "Run Status: completed\n",
      "respuesta procesada del asistente.\n"
     ]
    }
   ],
   "source": [
    "salida = sp_c.get_data_update(datos, openai_client, my_assistant, thread)"
   ]
  },
  {
   "cell_type": "code",
   "execution_count": 7,
   "metadata": {},
   "outputs": [
    {
     "data": {
      "text/plain": [
       "2"
      ]
     },
     "execution_count": 7,
     "metadata": {},
     "output_type": "execute_result"
    }
   ],
   "source": [
    "salida"
   ]
  }
 ],
 "metadata": {
  "kernelspec": {
   "display_name": "Python 3",
   "language": "python",
   "name": "python3"
  },
  "language_info": {
   "codemirror_mode": {
    "name": "ipython",
    "version": 3
   },
   "file_extension": ".py",
   "mimetype": "text/x-python",
   "name": "python",
   "nbconvert_exporter": "python",
   "pygments_lexer": "ipython3",
   "version": "3.12.5"
  }
 },
 "nbformat": 4,
 "nbformat_minor": 2
}
