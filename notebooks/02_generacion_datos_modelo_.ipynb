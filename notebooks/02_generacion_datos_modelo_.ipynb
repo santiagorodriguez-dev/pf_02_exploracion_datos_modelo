{
 "cells": [
  {
   "cell_type": "code",
   "execution_count": 1,
   "metadata": {},
   "outputs": [],
   "source": [
    "# Importaciones\n",
    "import pandas as pd\n",
    "import sys\n",
    "sys.path.append(\"../\")\n",
    "from src import support_open_ai as sp\n",
    "from src import support_bd as bd\n",
    "import os\n",
    "import dotenv # type: ignore\n",
    "dotenv.load_dotenv()\n",
    "import re\n",
    "import json\n",
    "\n",
    "import warnings\n",
    "warnings.filterwarnings(\"ignore\")\n",
    "pd.set_option(\"display.max_columns\", None)\n",
    "%load_ext autoreload\n",
    "%autoreload 2"
   ]
  },
  {
   "cell_type": "code",
   "execution_count": 2,
   "metadata": {},
   "outputs": [],
   "source": [
    "openai_client = sp.init_openai()"
   ]
  },
  {
   "cell_type": "code",
   "execution_count": 3,
   "metadata": {},
   "outputs": [],
   "source": [
    "list_my_assistants = sp.list_asisstants(openai_client)"
   ]
  },
  {
   "cell_type": "code",
   "execution_count": 4,
   "metadata": {},
   "outputs": [],
   "source": [
    "my_assistant = sp.get_assistant(openai_client, os.getenv(\"OPENAI_API_ASSIS\"))"
   ]
  },
  {
   "cell_type": "code",
   "execution_count": 5,
   "metadata": {},
   "outputs": [],
   "source": [
    "thread = sp.create_thread(openai_client)"
   ]
  },
  {
   "cell_type": "code",
   "execution_count": 34,
   "metadata": {},
   "outputs": [],
   "source": [
    "supabase = bd.init_conection_bd()"
   ]
  },
  {
   "cell_type": "code",
   "execution_count": 35,
   "metadata": {},
   "outputs": [
    {
     "data": {
      "text/html": [
       "<div>\n",
       "<style scoped>\n",
       "    .dataframe tbody tr th:only-of-type {\n",
       "        vertical-align: middle;\n",
       "    }\n",
       "\n",
       "    .dataframe tbody tr th {\n",
       "        vertical-align: top;\n",
       "    }\n",
       "\n",
       "    .dataframe thead th {\n",
       "        text-align: right;\n",
       "    }\n",
       "</style>\n",
       "<table border=\"1\" class=\"dataframe\">\n",
       "  <thead>\n",
       "    <tr style=\"text-align: right;\">\n",
       "      <th></th>\n",
       "      <th>nombre</th>\n",
       "      <th>apellidos</th>\n",
       "      <th>email</th>\n",
       "      <th>estudios</th>\n",
       "      <th>especialidad</th>\n",
       "      <th>ciudad</th>\n",
       "      <th>edad</th>\n",
       "      <th>telefono</th>\n",
       "      <th>sexo</th>\n",
       "      <th>motivo_compra</th>\n",
       "      <th>score</th>\n",
       "    </tr>\n",
       "  </thead>\n",
       "  <tbody>\n",
       "    <tr>\n",
       "      <th>0</th>\n",
       "      <td>Maite</td>\n",
       "      <td>Palomino</td>\n",
       "      <td>aitana54@example.com</td>\n",
       "      <td>Bachillerato</td>\n",
       "      <td>Letras</td>\n",
       "      <td>Vizcaya</td>\n",
       "      <td>43</td>\n",
       "      <td>+34 900 476 714</td>\n",
       "      <td>Hombre</td>\n",
       "      <td>Fortalecimiento del perfil profesional frente ...</td>\n",
       "      <td>NaN</td>\n",
       "    </tr>\n",
       "    <tr>\n",
       "      <th>1</th>\n",
       "      <td>Miriam</td>\n",
       "      <td>Almagro</td>\n",
       "      <td>odalisramon@example.org</td>\n",
       "      <td>Licenciatura</td>\n",
       "      <td>Ingenieria</td>\n",
       "      <td>Granada</td>\n",
       "      <td>21</td>\n",
       "      <td>+34 800 601 433</td>\n",
       "      <td>Hombre</td>\n",
       "      <td>Capacidad de adaptación a diferentes industrias</td>\n",
       "      <td>NaN</td>\n",
       "    </tr>\n",
       "    <tr>\n",
       "      <th>2</th>\n",
       "      <td>Almudena</td>\n",
       "      <td>Villaverde</td>\n",
       "      <td>graciana78@example.com</td>\n",
       "      <td>Bachillerato</td>\n",
       "      <td>Informatica</td>\n",
       "      <td>Córdoba</td>\n",
       "      <td>44</td>\n",
       "      <td>+34 739 00 32 50</td>\n",
       "      <td>Hombre</td>\n",
       "      <td>Ahorrar dinero en equipos de desarrollo para p...</td>\n",
       "      <td>NaN</td>\n",
       "    </tr>\n",
       "    <tr>\n",
       "      <th>3</th>\n",
       "      <td>Primitivo</td>\n",
       "      <td>Saldaña</td>\n",
       "      <td>baenacipriano@example.net</td>\n",
       "      <td>Grado Superior</td>\n",
       "      <td>Informatica</td>\n",
       "      <td>Zaragoza</td>\n",
       "      <td>21</td>\n",
       "      <td>+34841 44 87 97</td>\n",
       "      <td>Hombre</td>\n",
       "      <td>Aventurarse en el mundo freelance con más conf...</td>\n",
       "      <td>NaN</td>\n",
       "    </tr>\n",
       "    <tr>\n",
       "      <th>4</th>\n",
       "      <td>Emiliana</td>\n",
       "      <td>Quiroga</td>\n",
       "      <td>ramirezmaribel@example.net</td>\n",
       "      <td>Licenciatura</td>\n",
       "      <td>Ingenieria</td>\n",
       "      <td>Lugo</td>\n",
       "      <td>29</td>\n",
       "      <td>+34825 29 30 83</td>\n",
       "      <td>Mujer</td>\n",
       "      <td>Versatilidad en el mercado tecnológico</td>\n",
       "      <td>NaN</td>\n",
       "    </tr>\n",
       "    <tr>\n",
       "      <th>...</th>\n",
       "      <td>...</td>\n",
       "      <td>...</td>\n",
       "      <td>...</td>\n",
       "      <td>...</td>\n",
       "      <td>...</td>\n",
       "      <td>...</td>\n",
       "      <td>...</td>\n",
       "      <td>...</td>\n",
       "      <td>...</td>\n",
       "      <td>...</td>\n",
       "      <td>...</td>\n",
       "    </tr>\n",
       "    <tr>\n",
       "      <th>978</th>\n",
       "      <td>Sergio</td>\n",
       "      <td>Jaume</td>\n",
       "      <td>bermejorafa@example.com</td>\n",
       "      <td>Grado Superior</td>\n",
       "      <td>Ingenieria</td>\n",
       "      <td>Huelva</td>\n",
       "      <td>19</td>\n",
       "      <td>+34884 73 34 94</td>\n",
       "      <td>Hombre</td>\n",
       "      <td>Comprensión integral del ciclo de desarrollo d...</td>\n",
       "      <td>NaN</td>\n",
       "    </tr>\n",
       "    <tr>\n",
       "      <th>979</th>\n",
       "      <td>Elodia</td>\n",
       "      <td>Vallés</td>\n",
       "      <td>ztormo@example.com</td>\n",
       "      <td>Licenciatura</td>\n",
       "      <td>Letras</td>\n",
       "      <td>Málaga</td>\n",
       "      <td>25</td>\n",
       "      <td>+34 866 16 95 61</td>\n",
       "      <td>Mujer</td>\n",
       "      <td>Disfrutar aprendiendo nuevas tecnologías const...</td>\n",
       "      <td>NaN</td>\n",
       "    </tr>\n",
       "    <tr>\n",
       "      <th>980</th>\n",
       "      <td>Florinda</td>\n",
       "      <td>Quiroga</td>\n",
       "      <td>inocenciopacheco@example.org</td>\n",
       "      <td>Grado Medio</td>\n",
       "      <td>Informatica</td>\n",
       "      <td>Melilla</td>\n",
       "      <td>38</td>\n",
       "      <td>+34875 899 494</td>\n",
       "      <td>Mujer</td>\n",
       "      <td>Mejora en la comunicación entre equipos front-...</td>\n",
       "      <td>NaN</td>\n",
       "    </tr>\n",
       "    <tr>\n",
       "      <th>981</th>\n",
       "      <td>Manuel</td>\n",
       "      <td>Aguilera</td>\n",
       "      <td>prietolucila@example.net</td>\n",
       "      <td>Máster</td>\n",
       "      <td>Informatica</td>\n",
       "      <td>Tarragona</td>\n",
       "      <td>41</td>\n",
       "      <td>+34 806 18 79 00</td>\n",
       "      <td>Hombre</td>\n",
       "      <td>Demanda laboral en constante crecimiento</td>\n",
       "      <td>NaN</td>\n",
       "    </tr>\n",
       "    <tr>\n",
       "      <th>982</th>\n",
       "      <td>Violeta</td>\n",
       "      <td>Téllez</td>\n",
       "      <td>fulgenciomontenegro@example.org</td>\n",
       "      <td>Bachillerato</td>\n",
       "      <td>Letras</td>\n",
       "      <td>Burgos</td>\n",
       "      <td>39</td>\n",
       "      <td>+34 803 299 559</td>\n",
       "      <td>Mujer</td>\n",
       "      <td>Demanda laboral en constante crecimiento</td>\n",
       "      <td>64.0</td>\n",
       "    </tr>\n",
       "  </tbody>\n",
       "</table>\n",
       "<p>983 rows × 11 columns</p>\n",
       "</div>"
      ],
      "text/plain": [
       "        nombre   apellidos                            email        estudios  \\\n",
       "0        Maite    Palomino             aitana54@example.com    Bachillerato   \n",
       "1       Miriam     Almagro          odalisramon@example.org    Licenciatura   \n",
       "2     Almudena  Villaverde           graciana78@example.com    Bachillerato   \n",
       "3    Primitivo     Saldaña        baenacipriano@example.net  Grado Superior   \n",
       "4     Emiliana     Quiroga       ramirezmaribel@example.net    Licenciatura   \n",
       "..         ...         ...                              ...             ...   \n",
       "978     Sergio       Jaume          bermejorafa@example.com  Grado Superior   \n",
       "979     Elodia      Vallés               ztormo@example.com    Licenciatura   \n",
       "980   Florinda     Quiroga     inocenciopacheco@example.org     Grado Medio   \n",
       "981     Manuel    Aguilera         prietolucila@example.net          Máster   \n",
       "982    Violeta      Téllez  fulgenciomontenegro@example.org    Bachillerato   \n",
       "\n",
       "    especialidad     ciudad  edad          telefono    sexo  \\\n",
       "0         Letras    Vizcaya    43   +34 900 476 714  Hombre   \n",
       "1     Ingenieria    Granada    21   +34 800 601 433  Hombre   \n",
       "2    Informatica    Córdoba    44  +34 739 00 32 50  Hombre   \n",
       "3    Informatica   Zaragoza    21   +34841 44 87 97  Hombre   \n",
       "4     Ingenieria       Lugo    29   +34825 29 30 83   Mujer   \n",
       "..           ...        ...   ...               ...     ...   \n",
       "978   Ingenieria     Huelva    19   +34884 73 34 94  Hombre   \n",
       "979       Letras     Málaga    25  +34 866 16 95 61   Mujer   \n",
       "980  Informatica    Melilla    38    +34875 899 494   Mujer   \n",
       "981  Informatica  Tarragona    41  +34 806 18 79 00  Hombre   \n",
       "982       Letras     Burgos    39   +34 803 299 559   Mujer   \n",
       "\n",
       "                                         motivo_compra  score  \n",
       "0    Fortalecimiento del perfil profesional frente ...    NaN  \n",
       "1      Capacidad de adaptación a diferentes industrias    NaN  \n",
       "2    Ahorrar dinero en equipos de desarrollo para p...    NaN  \n",
       "3    Aventurarse en el mundo freelance con más conf...    NaN  \n",
       "4               Versatilidad en el mercado tecnológico    NaN  \n",
       "..                                                 ...    ...  \n",
       "978  Comprensión integral del ciclo de desarrollo d...    NaN  \n",
       "979  Disfrutar aprendiendo nuevas tecnologías const...    NaN  \n",
       "980  Mejora en la comunicación entre equipos front-...    NaN  \n",
       "981           Demanda laboral en constante crecimiento    NaN  \n",
       "982           Demanda laboral en constante crecimiento   64.0  \n",
       "\n",
       "[983 rows x 11 columns]"
      ]
     },
     "execution_count": 35,
     "metadata": {},
     "output_type": "execute_result"
    }
   ],
   "source": [
    "response_select = supabase.table(\"leads\").select(\"*\").execute()\n",
    "datos_select = pd.DataFrame(response_select.data).reset_index(drop=True)\n",
    "datos_select = datos_select.drop('index', axis=1)\n",
    "datos_select"
   ]
  },
  {
   "cell_type": "code",
   "execution_count": 47,
   "metadata": {},
   "outputs": [
    {
     "name": "stdout",
     "output_type": "stream",
     "text": [
      "Esperando a que se complete...\n",
      "Esperando a que se complete...\n",
      "Esperando a que se complete...\n",
      "Esperando a que se complete...\n",
      "Esperando a que se complete...\n",
      "Esperando a que se complete...\n",
      "Esperando a que se complete...\n",
      "Esperando a que se complete...\n",
      "Esperando a que se complete...\n",
      "se completó exitosamente.\n",
      "Thread ID: thread_L6mnTzEH11UHX5cOKJk8n8N9\n",
      "Run ID: run_0XgVbUv5NhSv21Kcd5fzQXcH\n",
      "Run Status: completed\n",
      "respuesta procesada del asistente.\n"
     ]
    }
   ],
   "source": [
    "for index, row in datos_select.iterrows():\n",
    "    df1 = pd.DataFrame(row).transpose().to_markdown()\n",
    "    message =f\"calcula el score de: {df1}\"\n",
    "    assistant_response = sp.process_data(openai_client, my_assistant.id, thread.id, message)\n",
    "    break\n"
   ]
  },
  {
   "cell_type": "code",
   "execution_count": 48,
   "metadata": {},
   "outputs": [
    {
     "data": {
      "text/plain": [
       "'Para calcular el score de compra para el registro proporcionado, vamos a considerar los siguientes criterios basados en los campos `motivo_compra`, `estudios`, `especialidad`, `edad` y `ciudad` de la base de datos.\\n\\n**Datos del registro:**\\n- **Nombre**: Maite\\n- **Apellidos**: Palomino\\n- **Email**: aitana54@example.com\\n- **Estudios**: Bachillerato\\n- **Especialidad**: Letras\\n- **Ciudad**: Vizcaya\\n- **Edad**: 43\\n- **Teléfono**: +34 900 476 714\\n- **Sexo**: Hombre\\n- **Motivo de compra**: Fortalecimiento del perfil profesional frente a reclutadores\\n\\n**Análisis:**\\n1. **Motivo de compra**: El fortalecimiento del perfil profesional es un motivador muy positivo, especialmente en un contexto donde la competencia laboral es alta. Esto puede dar un score alto.\\n   \\n2. **Estudios**: Tener un Bachillerato es un nivel educativo básico. Este campo podría tener un impacto neutral, ya que no es un título superior, pero podría ser suficiente para ciertas posiciones laborales.\\n\\n3. **Especialidad**: La especialidad en Letras puede ser menos relevante en comparación con áreas técnicas pero puede ser útil en sectores como la educación y la comunicación.\\n\\n4. **Edad**: A los 43 años, Maite tiene una gran experiencia y probablemente un deseo de avanzar en su carrera, lo cual puede ser un factor positivo.\\n\\n5. **Ciudad**: Vizcaya es una provincia en España con oportunidades laborales variadas. Esto puede influir positivamente en su probabilidad de compra.\\n\\n**Cálculo del Score:**\\nDado el análisis, podemos asignar puntajes a cada criterio:\\n- Motivo de compra: 85/100\\n- Estudios: 60/100\\n- Especialidad: 50/100\\n- Edad: 70/100\\n- Ciudad: 65/100\\n\\n**Score total**: \\nPara calcular el score total, promediamos los puntajes:\\n\\\\[ \\\\text{Score total} = \\\\frac{85 + 60 + 50 + 70 + 65}{5} = \\\\frac{330}{5} = 66 \\\\]\\n\\n**Resultado en formato JSON**:\\n```json\\n{\\n    \"nombre\": \"Maite\",\\n    \"apellidos\": \"Palomino\",\\n    \"email\": \"aitana54@example.com\",\\n    \"estudios\": \"Bachillerato\",\\n    \"especialidad\": \"Letras\",\\n    \"ciudad\": \"Vizcaya\",\\n    \"edad\": \"43\",\\n    \"telefono\": \"+34 900 476 714\",\\n    \"sexo\": \"Hombre\",\\n    \"motivo_compra\": \"Fortalecimiento del perfil profesional frente a reclutadores\",\\n    \"score\": \"66\"\\n}\\n``` \\n\\nEste score se presenta en un rango de 0 a 100, donde 0 indica una baja probabilidad de compra y 100 indica una alta probabilidad.'"
      ]
     },
     "execution_count": 48,
     "metadata": {},
     "output_type": "execute_result"
    }
   ],
   "source": [
    "assistant_response"
   ]
  },
  {
   "cell_type": "code",
   "execution_count": 6,
   "metadata": {},
   "outputs": [
    {
     "name": "stdout",
     "output_type": "stream",
     "text": [
      "Esperando a que se complete...\n",
      "Esperando a que se complete...\n",
      "Esperando a que se complete...\n",
      "Esperando a que se complete...\n",
      "Esperando a que se complete...\n",
      "Esperando a que se complete...\n",
      "se completó exitosamente.\n",
      "Thread ID: thread_L6mnTzEH11UHX5cOKJk8n8N9\n",
      "Run ID: run_7FEwWxrsHdJDHOcEdFQSLA6r\n",
      "Run Status: completed\n",
      "respuesta procesada del asistente.\n"
     ]
    }
   ],
   "source": [
    "# message =\"calcula el score de: | | nombre | apellidos | email | estudios | especialidad | ciudad | edad | telefono | sexo | motivo_compra | |---:|:---------|:------------|:--------------------------------|:-------------|:---------------|:---------|-------:|:----------------|:-------|:-----------------------------------------| | 0 | Violeta | Téllez | fulgenciomontenegro@example.org | Bachillerato | Letras | Burgos | 31 | +34 803 299 559 | Mujer | Demanda laboral en constante crecimiento |\"\n",
    "# assistant_response = sp.process_data(openai_client, my_assistant.id, thread.id, message)"
   ]
  },
  {
   "cell_type": "code",
   "execution_count": 49,
   "metadata": {},
   "outputs": [],
   "source": [
    "def extract_json(input_text):\n",
    "    try:   \n",
    "        match = re.search(r\"```json\\n(.*?)```\", input_text, re.DOTALL)\n",
    "        if match:\n",
    "            return json.loads(match.group(1))\n",
    "        else:\n",
    "            return json.loads(\"{}\")\n",
    "    except:\n",
    "        return json.loads(\"{}\")"
   ]
  },
  {
   "cell_type": "code",
   "execution_count": 51,
   "metadata": {},
   "outputs": [
    {
     "name": "stdout",
     "output_type": "stream",
     "text": [
      "{'nombre': 'Maite', 'apellidos': 'Palomino', 'email': 'aitana54@example.com', 'estudios': 'Bachillerato', 'especialidad': 'Letras', 'ciudad': 'Vizcaya', 'edad': '43', 'telefono': '+34 900 476 714', 'sexo': 'Hombre', 'motivo_compra': 'Fortalecimiento del perfil profesional frente a reclutadores', 'score': '66'}\n"
     ]
    }
   ],
   "source": [
    "data = extract_json(assistant_response)\n",
    "print(data)"
   ]
  },
  {
   "cell_type": "code",
   "execution_count": 52,
   "metadata": {},
   "outputs": [],
   "source": [
    "if (data.get(\"email\") != None):\n",
    "    if (data.get(\"score\")) != None:\n",
    "        score = data.get(\"score\")\n",
    "    else:\n",
    "        score = 0\n",
    "\n",
    "    response = (\n",
    "        supabase.table(\"leads\")\n",
    "        .update({\"score\": score})\n",
    "        .eq(\"email\", data.get(\"email\"))\n",
    "        .execute())\n",
    "else:\n",
    "    print(\"Registro no actualizado\")"
   ]
  }
 ],
 "metadata": {
  "kernelspec": {
   "display_name": "Python 3",
   "language": "python",
   "name": "python3"
  },
  "language_info": {
   "codemirror_mode": {
    "name": "ipython",
    "version": 3
   },
   "file_extension": ".py",
   "mimetype": "text/x-python",
   "name": "python",
   "nbconvert_exporter": "python",
   "pygments_lexer": "ipython3",
   "version": "3.12.5"
  }
 },
 "nbformat": 4,
 "nbformat_minor": 2
}
